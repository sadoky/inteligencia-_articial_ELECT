{
  "nbformat": 4,
  "nbformat_minor": 0,
  "metadata": {
    "colab": {
      "provenance": [],
      "authorship_tag": "ABX9TyNCCtiUHx1Mn7X9Y22Y0fol",
      "include_colab_link": true
    },
    "kernelspec": {
      "name": "python3",
      "display_name": "Python 3"
    },
    "language_info": {
      "name": "python"
    }
  },
  "cells": [
    {
      "cell_type": "markdown",
      "metadata": {
        "id": "view-in-github",
        "colab_type": "text"
      },
      "source": [
        "<a href=\"https://colab.research.google.com/github/sadoky/inteligencia-_articial_ELECT/blob/main/perceptr%C3%B3n_profesor_4.ipynb\" target=\"_parent\"><img src=\"https://colab.research.google.com/assets/colab-badge.svg\" alt=\"Open In Colab\"/></a>"
      ]
    },
    {
      "cell_type": "markdown",
      "source": [
        "# Perceptrón_corregido_Learn_Rate"
      ],
      "metadata": {
        "id": "uWxdM5BxZ1Pq"
      }
    },
    {
      "cell_type": "markdown",
      "source": [
        "**LIBRERIAS**\n"
      ],
      "metadata": {
        "id": "-ShI-LbSaDDn"
      }
    },
    {
      "cell_type": "code",
      "execution_count": 66,
      "metadata": {
        "id": "UAXFRLK0YD0T"
      },
      "outputs": [],
      "source": [
        "import matplotlib.pyplot as plt\n",
        "import numpy as np\n",
        "import pandas as pd"
      ]
    },
    {
      "cell_type": "markdown",
      "source": [
        "**Función_escalon_prediicion**"
      ],
      "metadata": {
        "id": "1mh8gBcoaI53"
      }
    },
    {
      "cell_type": "code",
      "source": [
        "def escalon(t):\n",
        "    if t >= 0:\n",
        "        return 1\n",
        "    return 0\n",
        "\n",
        "def prediccion(X, W, b):\n",
        "    return escalon((np.matmul(X,W)+b)[0])"
      ],
      "metadata": {
        "id": "iWaUa5k9YQVx"
      },
      "execution_count": 67,
      "outputs": []
    },
    {
      "cell_type": "markdown",
      "source": [
        "**Correccion_de_pesos_y_bias**"
      ],
      "metadata": {
        "id": "6IUpwbQ8aQY0"
      }
    },
    {
      "cell_type": "code",
      "source": [
        "def perceptron_escalon(X, y, W, b, learn_rate = 0.9):\n",
        "    \n",
        "    solucion=prediccion(X,W,b)\n",
        "\n",
        "    if np.array_equal(y,solucion):\n",
        "         W[0]=W[0]+(3*learn_rate)\n",
        "         W[1]=W[1]+learn_rate\n",
        "         b=b+(6.3*learn_rate)\n",
        "    else:\n",
        "         W[0]=W[0]+(3*learn_rate)\n",
        "         W[1]=W[1]+learn_rate\n",
        "         b=b-(6.3*learn_rate)\n",
        "    \n",
        "\n",
        "    return W, b"
      ],
      "metadata": {
        "id": "gBVe85nzYX3G"
      },
      "execution_count": 68,
      "outputs": []
    },
    {
      "cell_type": "markdown",
      "source": [
        "#Entrenamiento_Perceptron"
      ],
      "metadata": {
        "id": "KWxx0is3ag3Y"
      }
    },
    {
      "cell_type": "code",
      "source": [
        "def entrenamiento(X, y, learn_rate=0.9, num_epochs=50):\n",
        "    \"\"\"\n",
        "    Esta funcion entrena el perceptron repetidamente en el dataset y retorna las lineas de clasificacion\n",
        "    obtenidas en las iteraciones,\n",
        "    \n",
        "    \"\"\"\n",
        "    x_min, x_max = min(X.T[0]), max(X.T[0])\n",
        "    y_min, y_max = min(X.T[1]), max(X.T[1])\n",
        "    W = np.array(np.random.rand(2,1))\n",
        "    \n",
        "    b = np.random.rand(1)[0] + x_max\n",
        "    \n",
        "    # Lineas que seran ploteadas.\n",
        "    lineas = []\n",
        "    for i in range(num_epochs):\n",
        "        # En cada epoch, se aplica el perceptron.\n",
        "        W, b = perceptron_escalon(X, y, W, b, learn_rate)\n",
        "        lineas.append((-W[0]/W[1], -b/W[0]))\n",
        "        \n",
        "    return lineas"
      ],
      "metadata": {
        "id": "4Xfl7rqbYerX"
      },
      "execution_count": 69,
      "outputs": []
    },
    {
      "cell_type": "markdown",
      "source": [
        "**Función_para_graficar_epocas**"
      ],
      "metadata": {
        "id": "tOUmTXf0aoMX"
      }
    },
    {
      "cell_type": "code",
      "source": [
        "def plot_line(m, b, linestyle='dashed', color='gray', fill=False):\n",
        "    \"\"\"\n",
        "    Helper function to avoid repetitive code when plotting boundary lines\n",
        "    \"\"\"\n",
        "    x = np.arange(-0.5, 1.5, 0.1)\n",
        "    plt.plot(x, m*x+b, linestyle=linestyle, color=color)\n",
        "    if fill:\n",
        "        plt.fill_between(x, m*x+b, -0.05, color=blue, alpha=0.3)\n",
        "        plt.fill_between(x, m*x+b, 1.05, color=red, alpha=0.3)\n"
      ],
      "metadata": {
        "id": "orCLxiPmZMEr"
      },
      "execution_count": 70,
      "outputs": []
    },
    {
      "cell_type": "markdown",
      "source": [
        "**Lectura_y_asiganción_de_datos**"
      ],
      "metadata": {
        "id": "9-NOmTuDa2r-"
      }
    },
    {
      "cell_type": "code",
      "source": [
        "data = np.asarray(pd.read_csv(\"https://raw.githubusercontent.com/sadoky/inteligencia-_articial_ELECT/main/data.csv\"))\n",
        "X = data[:,0:2]\n",
        "y = data[:,2]"
      ],
      "metadata": {
        "id": "yZe1rZwdYqmL"
      },
      "execution_count": 71,
      "outputs": []
    },
    {
      "cell_type": "markdown",
      "source": [
        "**activacion_de_función_de_entrenamiento**\n"
      ],
      "metadata": {
        "id": "LDlWZEcbbLB8"
      }
    },
    {
      "cell_type": "code",
      "source": [
        "lineas = entrenamiento(X, y)"
      ],
      "metadata": {
        "id": "viCACR23YxnD"
      },
      "execution_count": 72,
      "outputs": []
    },
    {
      "cell_type": "markdown",
      "source": [
        "#Gráficas_Resultantes\n"
      ],
      "metadata": {
        "id": "q_H3mQJjbTAs"
      }
    },
    {
      "cell_type": "code",
      "source": [
        "# Estilo de gráfico\n",
        "plt.xlim(-0.05,1.05)\n",
        "plt.ylim(-0.05,1.05)\n",
        "plt.grid(False)\n",
        "plt.tick_params(axis='x', which='both', bottom='off', top='off')\n",
        "\n",
        "\n",
        "# Scatter para el grafico\n",
        "red = [1,0.3,0.3]\n",
        "blue = [0.25,0.5,1]\n",
        "red_points = X[np.argwhere(y==0).flatten()]\n",
        "blue_points = X[np.argwhere(y==1).flatten()]\n",
        "plt.scatter(red_points[:,0], red_points[:,1], s=50, color=red, edgecolor='k')\n",
        "plt.scatter(blue_points[:,0], blue_points[:,1], s=50, color=blue, edgecolor='k')\n",
        "\n",
        "\n",
        "# Plotea lineas y regiones solucion.\n",
        "for line in lineas:\n",
        "    slope = line[0]\n",
        "    b = line[1]\n",
        "    plot_line(slope, b)\n",
        "\n",
        "\n",
        "solution_slope = lineas[-1][0]\n",
        "solution_intercept = lineas[-1][1]\n",
        "plot_line(solution_slope, solution_intercept, 'solid', 'k', True)\n",
        "  "
      ],
      "metadata": {
        "colab": {
          "base_uri": "https://localhost:8080/",
          "height": 269
        },
        "id": "h6jubDVcYy0y",
        "outputId": "1a5a1760-d549-4195-9907-d8f6c536c87f"
      },
      "execution_count": 73,
      "outputs": [
        {
          "output_type": "display_data",
          "data": {
            "text/plain": [
              "<Figure size 432x288 with 1 Axes>"
            ],
            "image/png": "[encoded data removed]"
          },
          "metadata": {
            "needs_background": "light"
          }
        }
      ]
    }
  ]
}