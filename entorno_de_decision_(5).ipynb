{
  "cells": [
    {
      "cell_type": "markdown",
      "metadata": {
        "id": "view-in-github",
        "colab_type": "text"
      },
      "source": [
        "<a href=\"https://colab.research.google.com/github/sadoky/inteligencia-_articial_ELECT/blob/main/entorno_de_decision_(5).ipynb\" target=\"_parent\"><img src=\"https://colab.research.google.com/assets/colab-badge.svg\" alt=\"Open In Colab\"/></a>"
      ]
    },
    {
      "cell_type": "code",
      "execution_count": null,
      "metadata": {
        "colab": {
          "base_uri": "https://localhost:8080/"
        },
        "id": "4vjt5PFsoavr",
        "outputId": "2ca170de-fc07-4410-ae28-91be43281b37"
      },
      "outputs": [
        {
          "name": "stdout",
          "output_type": "stream",
          "text": [
            "aceptado\n",
            "aceptado\n",
            "no aceptado\n",
            "aceptado\n",
            "aceptado\n",
            "aceptado\n",
            "aceptado\n",
            "aceptado\n",
            "aceptado\n",
            "aceptado\n",
            "aceptado\n",
            "aceptado\n",
            "aceptado\n",
            "aceptado\n",
            "aceptado\n",
            "aceptado\n",
            "no aceptado\n",
            "aceptado\n",
            "aceptado\n",
            "aceptado\n",
            "aceptado\n",
            "aceptado\n",
            "aceptado\n",
            "aceptado\n",
            "aceptado\n",
            "no aceptado\n",
            "aceptado\n",
            "aceptado\n",
            "aceptado\n",
            "aceptado\n"
          ]
        }
      ],
      "source": [
        "import matplotlib as plt\n",
        "import matplotlib.pyplot as plt\n",
        "import random \n",
        "import pandas as pd\n",
        "import numpy as np\n",
        "import matplotlib.pyplot as pl\n",
        "\n",
        "\n",
        "\n",
        "n=30\n",
        "\n",
        "\n",
        "edad=[0]*n\n",
        "for i in range (n):\n",
        "  edad[i]=random.randint(1,25)\n",
        "\n",
        "\n",
        "\n",
        "notas=[0]*n\n",
        "for i in range (n2):\n",
        "  notas[i]=random.randint(1,10)\n",
        "\n",
        "\n",
        "\n",
        "item1=[0]*n\n",
        "item2=[0]*n\n",
        "\n",
        "for i in range(n):\n",
        "  item1[i]=0.3\n",
        "  item2[i]=-0.2\n",
        "\n",
        "\n",
        "\n",
        "\n",
        "\n",
        "bias=[0]*n\n",
        "\n",
        "\n",
        "\n",
        "for i in range(30):\n",
        "  bias[i]=0.1\n",
        "\n",
        "\n",
        "sum1=[0]*n\n",
        "sum2=[0]*n\n",
        "sum3=[0]*n\n",
        "\n",
        "for i in range(n):\n",
        "  sum1[i]=item1[i]*edad[i]\n",
        "  sum2[i]=item2[i]*notas[i]\n",
        "  sum3[i]=sum1[i]+sum2[i]+bias[i]\n",
        "\n",
        "\n",
        "for i in range(n):\n",
        "  if sum3[i] > 0:\n",
        "    print(\"aceptado\")\n",
        "  else:\n",
        "    print(\"no aceptado\")\n",
        "\n",
        "\n",
        "\n",
        "\n",
        "\n",
        "\n",
        "\n",
        "\n"
      ]
    },
    {
      "cell_type": "code",
      "execution_count": null,
      "metadata": {
        "id": "fannseiKaNWG"
      },
      "outputs": [],
      "source": []
    },
    {
      "cell_type": "code",
      "execution_count": null,
      "metadata": {
        "colab": {
          "base_uri": "https://localhost:8080/"
        },
        "id": "CVPSKNmWSylE",
        "outputId": "3b191ca7-ec9e-4eed-8adc-5c494d0370fe"
      },
      "outputs": [
        {
          "data": {
            "text/plain": [
              "[3,\n",
              " 17,\n",
              " 4,\n",
              " 16,\n",
              " 22,\n",
              " 24,\n",
              " 10,\n",
              " 4,\n",
              " 13,\n",
              " 12,\n",
              " 20,\n",
              " 20,\n",
              " 18,\n",
              " 21,\n",
              " 23,\n",
              " 14,\n",
              " 9,\n",
              " 15,\n",
              " 20,\n",
              " 3,\n",
              " 17,\n",
              " 4,\n",
              " 16,\n",
              " 22,\n",
              " 10,\n",
              " 4,\n",
              " 13,\n",
              " 12,\n",
              " 20,\n",
              " 18,\n",
              " 20,\n",
              " 3,\n",
              " 17,\n",
              " 4,\n",
              " 16,\n",
              " 22,\n",
              " 10,\n",
              " 4,\n",
              " 13,\n",
              " 12,\n",
              " 20,\n",
              " 18,\n",
              " 20]"
            ]
          },
          "execution_count": 81,
          "metadata": {},
          "output_type": "execute_result"
        }
      ],
      "source": [
        "edad"
      ]
    },
    {
      "cell_type": "code",
      "execution_count": null,
      "metadata": {
        "colab": {
          "base_uri": "https://localhost:8080/"
        },
        "id": "JcAJjhYcSz2p",
        "outputId": "6f23cdf1-54d4-496b-8b95-5d50ba5db073"
      },
      "outputs": [
        {
          "data": {
            "text/plain": [
              "[7,\n",
              " 2,\n",
              " 7,\n",
              " 4,\n",
              " 9,\n",
              " 3,\n",
              " 7,\n",
              " 8,\n",
              " 7,\n",
              " 10,\n",
              " 5,\n",
              " 10,\n",
              " 8,\n",
              " 6,\n",
              " 1,\n",
              " 2,\n",
              " 7,\n",
              " 6,\n",
              " 10,\n",
              " 4,\n",
              " 8,\n",
              " 5,\n",
              " 10,\n",
              " 5,\n",
              " 4,\n",
              " 7,\n",
              " 10,\n",
              " 7,\n",
              " 9,\n",
              " 3]"
            ]
          },
          "execution_count": 82,
          "metadata": {},
          "output_type": "execute_result"
        }
      ],
      "source": [
        "notas"
      ]
    },
    {
      "cell_type": "code",
      "execution_count": null,
      "metadata": {
        "id": "vsxqe3lTHi5j"
      },
      "outputs": [],
      "source": [
        "def f(x):\n",
        "  return 0.5*x"
      ]
    },
    {
      "cell_type": "code",
      "execution_count": null,
      "metadata": {
        "colab": {
          "base_uri": "https://localhost:8080/"
        },
        "id": "_g5Mq1AU63pn",
        "outputId": "fc72353b-de7b-4534-a771-b59fc0756c5b"
      },
      "outputs": [
        {
          "data": {
            "text/plain": [
              "[1,\n",
              " 2,\n",
              " 3,\n",
              " 4,\n",
              " 5,\n",
              " 6,\n",
              " 7,\n",
              " 8,\n",
              " 9,\n",
              " 10,\n",
              " 11,\n",
              " 12,\n",
              " 13,\n",
              " 14,\n",
              " 15,\n",
              " 16,\n",
              " 17,\n",
              " 18,\n",
              " 19,\n",
              " 20,\n",
              " 21,\n",
              " 22,\n",
              " 23,\n",
              " 24,\n",
              " 25,\n",
              " 26,\n",
              " 27,\n",
              " 28,\n",
              " 29,\n",
              " 30]"
            ]
          },
          "execution_count": 92,
          "metadata": {},
          "output_type": "execute_result"
        }
      ],
      "source": [
        "import operator\n",
        "# plt.scatter(edad,notas,marker='o')\n",
        "\n",
        "import operator\n",
        "\n",
        "\n",
        "x= list(range(1,31))\n",
        "\n",
        "y=[f(i) for i in (x)]\n",
        "y\n",
        "x\n",
        "\n",
        "\n",
        "# multiplicacion= list(map(operator.mul,x,y))\n",
        "\n",
        "\n"
      ]
    },
    {
      "cell_type": "code",
      "execution_count": null,
      "metadata": {
        "colab": {
          "base_uri": "https://localhost:8080/",
          "height": 282
        },
        "id": "xRqlCuKR9DUY",
        "outputId": "b4fc20d5-3d9b-44fb-f584-1bf3f301e10c"
      },
      "outputs": [
        {
          "data": {
            "text/plain": [
              "[<matplotlib.lines.Line2D at 0x7fdf205dc820>]"
            ]
          },
          "execution_count": 35,
          "metadata": {},
          "output_type": "execute_result"
        },
        {
          "data": {
            "image/png": "[encoded data removed]",
            "text/plain": [
              "<Figure size 432x288 with 1 Axes>"
            ]
          },
          "metadata": {
            "needs_background": "light"
          },
          "output_type": "display_data"
        }
      ],
      "source": [
        "fig, ax = plt.subplots()\n",
        "ax.scatter(edad,notas,marker='o')\n",
        "ax.plot(y)  \n"
      ]
    },
    {
      "cell_type": "code",
      "execution_count": null,
      "metadata": {
        "colab": {
          "base_uri": "https://localhost:8080/",
          "height": 821
        },
        "id": "Y9z0ulCeJ076",
        "outputId": "4fab4ec5-af17-49bf-c32c-733b52f691c0"
      },
      "outputs": [
        {
          "name": "stdout",
          "output_type": "stream",
          "text": [
            "3\n",
            "17\n",
            "4\n",
            "16\n",
            "22\n",
            "24\n",
            "10\n",
            "4\n",
            "13\n",
            "12\n",
            "20\n",
            "20\n",
            "18\n",
            "21\n",
            "23\n",
            "14\n",
            "9\n",
            "15\n",
            "20\n",
            "3\n",
            "17\n",
            "4\n",
            "16\n",
            "22\n",
            "10\n",
            "4\n",
            "13\n",
            "12\n",
            "20\n",
            "18\n",
            "[5, 6, 1, 2, 7, 6, 4, 8, 5, 10, 5, 4, 7, 10, 7, 9, 3]\n",
            "[20, 21, 23, 14, 9, 15, 3, 17, 4, 16, 22, 10, 4, 13, 12, 20, 18]\n"
          ]
        },
        {
          "data": {
            "image/png": "[encoded data removed]",
            "text/plain": [
              "<Figure size 432x288 with 1 Axes>"
            ]
          },
          "metadata": {
            "needs_background": "light"
          },
          "output_type": "display_data"
        }
      ],
      "source": [
        "aprobar=[]\n",
        "no_aprobar=[0]*n\n",
        "edad2=[]\n",
        "\n",
        "for i in range(n):\n",
        "  for element in x:\n",
        "    if element == edad[i]:\n",
        "      print(element)\n",
        "      if y[i] > notas[i]:\n",
        "          aprobar.append(notas[i])\n",
        "          edad2.append(edad[i])\n",
        "   \n",
        "\n",
        "\n",
        "\n",
        "\n",
        "fig, ax = plt.subplots()\n",
        "plt.plot(edad2,aprobar,'o')\n",
        "ax.plot(y)\n",
        "\n",
        "print(aprobar)\n",
        "print(edad2)\n",
        "\n",
        "     \n",
        " \n",
        " \n",
        " "
      ]
    },
    {
      "cell_type": "code",
      "execution_count": null,
      "metadata": {
        "colab": {
          "base_uri": "https://localhost:8080/",
          "height": 803
        },
        "id": "6kkPb4LMXNd8",
        "outputId": "03227ca2-23b8-42ae-e159-0e1744e2cc26"
      },
      "outputs": [
        {
          "name": "stdout",
          "output_type": "stream",
          "text": [
            "3\n",
            "17\n",
            "4\n",
            "16\n",
            "22\n",
            "24\n",
            "10\n",
            "4\n",
            "13\n",
            "12\n",
            "20\n",
            "20\n",
            "18\n",
            "21\n",
            "23\n",
            "14\n",
            "9\n",
            "15\n",
            "20\n",
            "3\n",
            "17\n",
            "4\n",
            "16\n",
            "22\n",
            "10\n",
            "4\n",
            "13\n",
            "12\n",
            "20\n",
            "18\n"
          ]
        },
        {
          "data": {
            "text/plain": [
              "[<matplotlib.lines.Line2D at 0x7fdf206845e0>]"
            ]
          },
          "execution_count": 112,
          "metadata": {},
          "output_type": "execute_result"
        },
        {
          "data": {
            "image/png": "[encoded data removed]",
            "text/plain": [
              "<Figure size 432x288 with 1 Axes>"
            ]
          },
          "metadata": {
            "needs_background": "light"
          },
          "output_type": "display_data"
        }
      ],
      "source": [
        "aprobar2=[]\n",
        "edad22=[]\n",
        "edad4=[]\n",
        "noa=[]\n",
        "\n",
        "\n",
        "for i in range (n):\n",
        "  for element in x:\n",
        "    if element==edad[i]:\n",
        "      print(element)\n",
        "      if notas[i]>((element/2)):\n",
        "        aprobar2.append(notas[i])\n",
        "        edad22.append(edad[i])\n",
        "      else:\n",
        "        noa.append(notas[i])\n",
        "        edad4.append(edad[i])\n",
        "\n",
        "\n",
        "\n",
        "fig, ax = plt.subplots()\n",
        "plt.plot(edad22,aprobar2,'o')\n",
        "plt.plot(edad4,noa,'o')\n",
        "ax.plot(y)\n",
        "\n",
        "\n",
        "\n"
      ]
    },
    {
      "cell_type": "code",
      "execution_count": null,
      "metadata": {
        "colab": {
          "base_uri": "https://localhost:8080/",
          "height": 769
        },
        "id": "ZgONhHi1fSBU",
        "outputId": "436af74a-92d6-497f-bee6-5c1b37e813b9"
      },
      "outputs": [
        {
          "name": "stdout",
          "output_type": "stream",
          "text": [
            "aceptado\n",
            "aceptado\n",
            "no aceptado\n",
            "no aceptado\n",
            "aceptado\n",
            "aceptado\n",
            "aceptado\n",
            "no aceptado\n",
            "no aceptado\n",
            "aceptado\n",
            "no aceptado\n",
            "aceptado\n",
            "no aceptado\n",
            "aceptado\n",
            "aceptado\n",
            "aceptado\n",
            "no aceptado\n",
            "aceptado\n",
            "aceptado\n",
            "no aceptado\n",
            "aceptado\n",
            "aceptado\n",
            "no aceptado\n",
            "no aceptado\n",
            "aceptado\n",
            "no aceptado\n",
            "no aceptado\n",
            "aceptado\n",
            "aceptado\n",
            "aceptado\n"
          ]
        },
        {
          "data": {
            "image/png": "[encoded data removed]",
            "text/plain": [
              "<Figure size 432x288 with 1 Axes>"
            ]
          },
          "metadata": {
            "needs_background": "light"
          },
          "output_type": "display_data"
        }
      ],
      "source": [
        "\n",
        "\n",
        "item3=[0]*n\n",
        "\n",
        "for i in range(n):\n",
        "  item3[i]=-0.1\n",
        "\n",
        "sum4=[0]*n\n",
        "\n",
        "\n",
        "peso=[0]*n\n",
        "for i in range (n):\n",
        "  peso[i]=random.randint(1,40)\n",
        "\n",
        "\n",
        "\n",
        "\n",
        "for i in range(n):\n",
        "  sum4[i]=item3[i]*peso[i]+sum3[i]\n",
        "\n",
        "\n",
        "\n",
        "\n",
        "for i in range(n):\n",
        "  if sum4[i] > 0:\n",
        "    print(\"aceptado\")\n",
        "  else:\n",
        "    print(\"no aceptado\")\n",
        "\n",
        "\n",
        "\n",
        "# Datos para graficar el plano\n",
        "\n",
        "X, Y = np.meshgrid(np.linspace(-20, 20, 100), np.linspace(-20, 20, 100))\n",
        "\n",
        "ZE=(-14*X +(3*Y-70))+10\n",
        "\n",
        "# Creación del gráfico en 3D\n",
        "fig = plt.figure()\n",
        "ax = fig.add_subplot(111, projection='3d')\n",
        "ax.plot_surface(X, Y, Z)\n",
        "ax.scatter(edad,notas,peso,marker='o',color='tab:red')\n",
        "\n",
        "# Personalización del gráfico\n",
        "ax.set_xlabel('X')\n",
        "ax.set_ylabel('Y')\n",
        "ax.set_zlabel('ZE')\n",
        "plt.show()"
      ]
    }
  ],
  "metadata": {
    "colab": {
      "provenance": [],
      "include_colab_link": true
    },
    "kernelspec": {
      "display_name": "Python 3",
      "language": "python",
      "name": "python3"
    },
    "language_info": {
      "name": "python",
      "version": "3.10.0"
    },
    "vscode": {
      "interpreter": {
        "hash": "92e93fd99677447a36819619535bb8b74b4f1e81af49650ffe9f238af256f6fd"
      }
    }
  },
  "nbformat": 4,
  "nbformat_minor": 0
}