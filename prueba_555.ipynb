{
  "cells": [
    {
      "cell_type": "markdown",
      "metadata": {
        "id": "view-in-github",
        "colab_type": "text"
      },
      "source": [
        "<a href=\"https://colab.research.google.com/github/sadoky/inteligencia-_articial_ELECT/blob/main/prueba_555.ipynb\" target=\"_parent\"><img src=\"https://colab.research.google.com/assets/colab-badge.svg\" alt=\"Open In Colab\"/></a>"
      ]
    },
    {
      "cell_type": "markdown",
      "metadata": {
        "id": "1UL0EbqJZN5m"
      },
      "source": [
        "# Gradiente_Descendiente\n"
      ]
    },
    {
      "cell_type": "markdown",
      "metadata": {
        "id": "sMFJdNh3ZN5p"
      },
      "source": [
        "**librerias**\n"
      ]
    },
    {
      "cell_type": "code",
      "execution_count": null,
      "metadata": {
        "id": "geO5IYCSZN5q"
      },
      "outputs": [],
      "source": [
        "import numpy as np\n",
        "import math\n",
        "import matplotlib.pyplot as plt\n",
        "from matplotlib import pyplot as plt\n",
        "import pandas as pd"
      ]
    },
    {
      "cell_type": "markdown",
      "metadata": {
        "id": "uIvpJUIZZN5s"
      },
      "source": [
        "**Lectura de datos**\n",
        " "
      ]
    },
    {
      "cell_type": "code",
      "execution_count": null,
      "metadata": {
        "id": "ZFw52XIfZN5s"
      },
      "outputs": [],
      "source": [
        "datoscop=pd.read_csv('https://raw.githubusercontent.com/sadoky/inteligencia-_articial_ELECT/main/data.csv')"
      ]
    },
    {
      "cell_type": "markdown",
      "metadata": {
        "id": "nEkJIWPOZN5t"
      },
      "source": [
        "**Seleccion_de_datos**"
      ]
    },
    {
      "cell_type": "code",
      "execution_count": null,
      "metadata": {
        "id": "MVcjQRq8ZN5t"
      },
      "outputs": [],
      "source": [
        "X1=datoscop[\"X\"]      # vector de entrada X1\n",
        "X2=datoscop[\"W\"]      # vector de entrada X2\n",
        "\n",
        "Y1=datoscop[\"b\"]      # bandera  o vector de salida "
      ]
    },
    {
      "cell_type": "markdown",
      "metadata": {
        "id": "GyR8toycZN5u"
      },
      "source": [
        "**Clasificacion_de_datos**"
      ]
    },
    {
      "cell_type": "code",
      "execution_count": null,
      "metadata": {
        "id": "DOv-J4WqZN5u"
      },
      "outputs": [],
      "source": [
        "n=100                 # nuemro de datos a clasificar \n",
        "learnrate=0.01      # tasa de aprendizaje \n",
        "\n",
        "seleccion_1_1=[]      # vector que clasifica los datos x1=1                   \n",
        "seleccion_1_2=[]      # vector que clasifica los datos x2=1\n",
        "seleccion_0_1=[]      # vector que clasifica  los datos x1=0\n",
        "seleccion_0_2=[]      # vector que clasifica los datos x2=0\n",
        "\n",
        "\n",
        "peso1=1\n",
        "peso2=1\n",
        "bias=0.3 \n",
        "\n",
        "\n",
        "for i in range (n):              # ciclo necesario para  la clasificacion de los puntos Y1=1 or Y1=0\n",
        "  if Y1[i]==1:\n",
        "    seleccion_1_1.append(X1[i])\n",
        "    seleccion_1_2.append(X2[i])\n",
        "  else:\n",
        "    seleccion_0_1.append(X1[i])\n",
        "    seleccion_0_2.append(X2[i])"
      ]
    },
    {
      "cell_type": "markdown",
      "metadata": {
        "id": "k6w9ithOZN5v"
      },
      "source": [
        "**Funcion_Sigmoide**"
      ]
    },
    {
      "cell_type": "code",
      "execution_count": null,
      "metadata": {
        "id": "NSGW5USOZN5w"
      },
      "outputs": [],
      "source": [
        "def sigmoid(x):  \n",
        "    sig = 1 / (1 + math.exp(-x))     # función sigmoide\n",
        "    return sig"
      ]
    },
    {
      "cell_type": "markdown",
      "metadata": {
        "id": "OUw_pyqjZN5w"
      },
      "source": [
        "**funcion_Error**\n",
        "\n"
      ]
    },
    {
      "cell_type": "code",
      "execution_count": null,
      "metadata": {
        "id": "CzFMxxkkZN5x"
      },
      "outputs": [],
      "source": [
        "def funcion_error(x):\n",
        "    return sigmoid(x) * (1 - sigmoid(x))"
      ]
    },
    {
      "cell_type": "markdown",
      "metadata": {
        "id": "gC8TGbwDZN5x"
      },
      "source": [
        "**Funcion_logaritmo_natural**\n"
      ]
    },
    {
      "cell_type": "code",
      "execution_count": null,
      "metadata": {
        "id": "qQZA3O53ZN5x"
      },
      "outputs": [],
      "source": [
        "def ln(x):\n",
        "    return(math.log(x))"
      ]
    },
    {
      "cell_type": "code",
      "execution_count": null,
      "metadata": {
        "id": "-4Hr8yWXZN5y",
        "outputId": "75d5993e-acf9-481f-e0fb-581a2dc1543c"
      },
      "outputs": [
        {
          "name": "stdout",
          "output_type": "stream",
          "text": [
            "0.5202661303977514 0.5177535521016814 -0.5544791399196227\n"
          ]
        },
        {
          "data": {
            "text/plain": [
              "[<matplotlib.lines.Line2D at 0x1751632a740>]"
            ]
          },
          "execution_count": 486,
          "metadata": {},
          "output_type": "execute_result"
        },
        {
          "data": {
            "image/png": "[encoded data removed]",
            "text/plain": [
              "<Figure size 1000x600 with 1 Axes>"
            ]
          },
          "metadata": {},
          "output_type": "display_data"
        }
      ],
      "source": [
        "epochs=12\n",
        "peso1=1\n",
        "peso2=1\n",
        "bias=0.3 \n",
        "\n",
        "\n",
        "for epocas in range (epochs):\n",
        "\n",
        " if epocas>=7:\n",
        "   learnrate=0.00001\n",
        "\n",
        "\n",
        "\n",
        " for i in range(n):\n",
        " \n",
        "  solucion=(X1[i]*peso1)+(X2[i]*peso2)+bias                              \n",
        "  salida=sigmoid(solucion)\n",
        "\n",
        "\n",
        "  error=Y1[i]-salida\n",
        "\n",
        "\n",
        "  gradiente=funcion_error(salida)\n",
        "\n",
        "  error_final=error*gradiente\n",
        "\n",
        "  new1=learnrate*error_final*X1[i]\n",
        "  new2=learnrate*error_final*X2[i]\n",
        "  newbias=learnrate*error_final\n",
        "\n",
        "  if Y1[i]==0:\n",
        "    peso1=peso1+new1\n",
        "    peso2=peso2+new2\n",
        "    bias=bias+newbias\n",
        "\n",
        "\n",
        "  if Y1[i]==1:\n",
        "    peso1=peso1-new1\n",
        "    peso2=peso2-new2\n",
        "    bias=bias-newbias\n",
        "\n",
        "\n",
        "\n",
        "\n",
        "print(peso1,peso2,bias)\n",
        "\n",
        "\n",
        "def clasificador(peso1,peso2,bias):\n",
        "  return (-bias-(peso2*x22))/peso1\n",
        "\n",
        "\n",
        "x22=np.arange(0,1.2,0.1)\n",
        "graph=clasificador(peso1,peso2,bias)\n",
        "\n",
        "\n",
        "plt.figure(figsize=(10,6))\n",
        "plt.plot(seleccion_1_1,seleccion_1_2,'o')             # valores iguales a uno\n",
        "plt.plot(seleccion_0_1,seleccion_0_2,'o') \n",
        "plt.plot(x22,graph)\n",
        " "
      ]
    },
    {
      "cell_type": "code",
      "execution_count": null,
      "metadata": {
        "id": "bFW5uGSIZN50"
      },
      "outputs": [],
      "source": [
        "X1_1=np.multiply(X1,3)\n",
        "X2_2=np.multiply(X2,3)"
      ]
    },
    {
      "cell_type": "markdown",
      "metadata": {
        "id": "epNCKCRdZN50"
      },
      "source": [
        "*Error_Estimado*\n"
      ]
    },
    {
      "cell_type": "code",
      "execution_count": null,
      "metadata": {
        "id": "zLkAdnsNZN51"
      },
      "outputs": [],
      "source": [
        "def estimate(m,peso1,peso2,bias):\n",
        "    step_8=0\n",
        "    for i in range(m):\n",
        "        solucion=(X1[i]*peso1)+(X2[i]*peso2)+bias\n",
        "        step_1=1-Y1[i]\n",
        "        step_2=ln(1-sigmoid(solucion))\n",
        "        step_3=np.multiply(step_1,step_2)\n",
        "\n",
        "       \n",
        "\n",
        "        step_4=Y1[i]\n",
        "        step_5=ln(sigmoid(solucion))\n",
        "        step_6=np.multiply(step_4,step_5)\n",
        "\n",
        "        step_7=step_3+step_6\n",
        "        step_8=step_8+step_7\n",
        "\n",
        "    \n",
        "\n",
        "    return step_8\n",
        "        \n",
        "        \n",
        "\n",
        "\n",
        "\n"
      ]
    },
    {
      "cell_type": "code",
      "execution_count": null,
      "metadata": {
        "id": "6LvQs3-UZN51",
        "outputId": "ef3f145b-20a5-4e78-89d4-d6ccf13710e4"
      },
      "outputs": [
        {
          "name": "stdout",
          "output_type": "stream",
          "text": [
            "0.7883949824866342\n",
            "0.9504542176125318\n"
          ]
        }
      ],
      "source": [
        "goal_1=-0.01*estimate(100,peso1,peso1,bias)\n",
        "print(goal_1)\n",
        "\n",
        "goal_2=-0.01*estimate(100,1,1,-0.3)\n",
        "print(goal_2)"
      ]
    },
    {
      "cell_type": "code",
      "execution_count": null,
      "metadata": {
        "id": "-raBa7zRZN52",
        "outputId": "f4ae2d20-0763-4955-fd26-371a782487f3"
      },
      "outputs": [
        {
          "name": "stdout",
          "output_type": "stream",
          "text": [
            "0.47201340737264286\n",
            "0.40416345220054867\n",
            "0.42361226933706614\n",
            "0.3887926726266844\n",
            "0.40746956403509704\n",
            "0.4259388823692421\n",
            "0.3986577405624546\n",
            "0.4089695102448953\n",
            "0.3898825356551697\n",
            "0.406601159734931\n",
            "0.4093627975097618\n",
            "0.39099373932760023\n",
            "0.38655131262199754\n",
            "0.3988377912968857\n",
            "0.3925774106011028\n",
            "0.42161333240682575\n",
            "0.42357881909387846\n",
            "0.4109997504541814\n",
            "0.39107970317573587\n",
            "0.3940797683302672\n",
            "0.3965461833295659\n",
            "0.37956617388891384\n",
            "0.3946890627201591\n",
            "0.39171261430092175\n",
            "0.4141777952297068\n",
            "0.3569318130412027\n",
            "0.364356057096973\n",
            "0.39988579138321034\n",
            "0.4350038586856329\n",
            "0.4168536458777073\n",
            "0.39045763024503416\n",
            "0.4410213480895006\n",
            "0.3697584975375047\n",
            "0.38035045276475865\n",
            "0.39603156953544616\n",
            "0.4013716857380501\n",
            "0.401664613043224\n",
            "0.3882201309883728\n",
            "0.41188120243523957\n",
            "0.41741966098250527\n",
            "0.3965514478823197\n",
            "0.3750760867819331\n",
            "0.4265999382138389\n",
            "0.37194120359625693\n",
            "0.4231596518160236\n",
            "0.40663542147451676\n",
            "0.3946687555853976\n",
            "0.37666356702220033\n",
            "0.4131268521841201\n",
            "0.40612352044052735\n",
            "0.3341799096133248\n",
            "0.3757851616128224\n",
            "0.38692699301644257\n",
            "0.351568226085079\n",
            "0.4001070707206954\n",
            "0.3812903361400103\n",
            "0.3636927792486767\n",
            "0.3646771160044204\n",
            "0.3933235648052865\n",
            "0.3680675556791448\n",
            "0.3840549768966732\n",
            "0.3744396889514896\n",
            "0.3849014905737633\n",
            "0.37057403220543483\n",
            "0.3952843424015584\n",
            "0.3685147142708752\n",
            "0.37978921373189634\n",
            "0.3816874485751531\n",
            "0.4207461809800323\n",
            "0.3716756380178895\n",
            "0.34477921489238367\n",
            "0.3855698222938034\n",
            "0.34806423297141936\n",
            "0.3772154788267699\n",
            "0.3881543440684906\n",
            "0.38344011504328634\n",
            "0.3905780651554132\n",
            "0.35940719772324614\n",
            "0.39593637563071704\n",
            "0.3681782772934988\n",
            "0.3643326657446591\n",
            "0.37146991884051705\n",
            "0.3709067065062007\n",
            "0.3784042248838034\n",
            "0.39164756746537716\n",
            "0.3741928383655519\n",
            "0.3889240917157779\n",
            "0.35464780685437797\n",
            "0.3845471334538539\n",
            "0.35957850948070996\n",
            "0.34378748544355603\n",
            "0.3834885810288103\n",
            "0.38974124765937634\n",
            "0.3505084525992735\n",
            "0.37138260151208\n",
            "0.37833013516499575\n",
            "0.3745846914392499\n",
            "0.3773425811297175\n",
            "0.36368977078956727\n",
            "0.3756692908123392\n"
          ]
        }
      ],
      "source": [
        "peso11=0.2\n",
        "peso22=-0.5\n",
        "bias22=-0.3 \n",
        "\n",
        "\n",
        "for i in range (n):\n",
        " solucion3=(X1[i]*peso11)+(X2[i]*peso22)+bias22                             \n",
        " salida3=sigmoid(solucion3)\n",
        " print(salida3)\n",
        "    "
      ]
    },
    {
      "cell_type": "code",
      "execution_count": null,
      "metadata": {
        "id": "wbNSKhewZN52"
      },
      "outputs": [],
      "source": [
        "def clasificador(peso1,peso2,bias):\n",
        "  return (-bias-(peso2*x22))/peso1\n",
        "\n",
        "\n",
        "x22=np.arange(0,1,0.1)\n",
        "graph=clasificador(peso1,peso2,bias)"
      ]
    },
    {
      "cell_type": "code",
      "execution_count": null,
      "metadata": {
        "id": "Ss2lH9y-ZN53",
        "outputId": "a7b58fbe-a2d0-432b-8f50-d7258f0eaab5"
      },
      "outputs": [
        {
          "data": {
            "text/plain": [
              "[<matplotlib.lines.Line2D at 0x17516455db0>]"
            ]
          },
          "execution_count": 492,
          "metadata": {},
          "output_type": "execute_result"
        },
        {
          "data": {
            "image/png": "[encoded data removed]",
            "text/plain": [
              "<Figure size 1000x600 with 1 Axes>"
            ]
          },
          "metadata": {},
          "output_type": "display_data"
        }
      ],
      "source": [
        "plt.figure(figsize=(10,6))\n",
        "plt.plot(seleccion_1_1,seleccion_1_2,'o')             # valores iguales a uno\n",
        "plt.plot(seleccion_0_1,seleccion_0_2,'o') \n",
        "plt.plot(x22,graph)   "
      ]
    }
  ],
  "metadata": {
    "kernelspec": {
      "display_name": "Python 3",
      "language": "python",
      "name": "python3"
    },
    "language_info": {
      "codemirror_mode": {
        "name": "ipython",
        "version": 3
      },
      "file_extension": ".py",
      "mimetype": "text/x-python",
      "name": "python",
      "nbconvert_exporter": "python",
      "pygments_lexer": "ipython3",
      "version": "3.10.0"
    },
    "orig_nbformat": 4,
    "vscode": {
      "interpreter": {
        "hash": "92e93fd99677447a36819619535bb8b74b4f1e81af49650ffe9f238af256f6fd"
      }
    },
    "colab": {
      "provenance": [],
      "include_colab_link": true
    }
  },
  "nbformat": 4,
  "nbformat_minor": 0
}