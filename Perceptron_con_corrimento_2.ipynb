{
  "cells": [
    {
      "cell_type": "markdown",
      "metadata": {
        "id": "view-in-github",
        "colab_type": "text"
      },
      "source": [
        "<a href=\"https://colab.research.google.com/github/sadoky/inteligencia-_articial_ELECT/blob/main/Perceptron_con_corrimento_2.ipynb\" target=\"_parent\"><img src=\"https://colab.research.google.com/assets/colab-badge.svg\" alt=\"Open In Colab\"/></a>"
      ]
    },
    {
      "cell_type": "markdown",
      "metadata": {
        "id": "wWRLyrVypeJi"
      },
      "source": []
    },
    {
      "cell_type": "markdown",
      "metadata": {
        "id": "t8yroxDcpeJn"
      },
      "source": [
        "# PERCEPTRON_CON_CORRIMIENTO_LINEAL_2"
      ]
    },
    {
      "cell_type": "markdown",
      "metadata": {
        "id": "O9PN-3FZpeJq"
      },
      "source": [
        "**librerias**\n",
        "\n",
        "\n",
        "\n"
      ]
    },
    {
      "cell_type": "code",
      "execution_count": 2,
      "metadata": {
        "id": "a0qM8E9tpeJq"
      },
      "outputs": [],
      "source": [
        "\n",
        "\n",
        "import numpy as np\n",
        "import matplotlib.pyplot as plt\n",
        "import pandas as pd"
      ]
    },
    {
      "cell_type": "markdown",
      "metadata": {
        "id": "XB_w9kFVpeJt"
      },
      "source": [
        "* Lectura de datos "
      ]
    },
    {
      "cell_type": "code",
      "execution_count": 5,
      "metadata": {
        "id": "eEyzku7vpeJt"
      },
      "outputs": [],
      "source": [
        "datoscop=pd.read_csv('https://raw.githubusercontent.com/sadoky/inteligencia-_articial_ELECT/main/data.csv')\n"
      ]
    },
    {
      "cell_type": "markdown",
      "metadata": {
        "id": "HwSwbYEVpeJu"
      },
      "source": [
        "* Seleccion de vectores x1,x2  y clasificacion "
      ]
    },
    {
      "cell_type": "code",
      "execution_count": 6,
      "metadata": {
        "id": "L0DKG4bmpeJu"
      },
      "outputs": [],
      "source": [
        "X1=datoscop[\"X\"]\n",
        "X2=datoscop[\"W\"]\n",
        "\n",
        "Y1=datoscop[\"b\"]\n",
        "\n",
        "n=100\n",
        "\n",
        "sel2=[]\n",
        "sel1=[]\n",
        "sel22=[]\n",
        "sel11=[]\n",
        "\n",
        "for i in range (n):\n",
        "  if Y1[i]==1:\n",
        "    sel1.append(X1[i])\n",
        "    #print(sel11)\n",
        "    sel11.append(X2[i])\n",
        "  else:\n",
        "    sel2.append(X1[i])\n",
        "    sel22.append(X2[i])"
      ]
    },
    {
      "cell_type": "markdown",
      "metadata": {
        "id": "Sh7SknWTpeJv"
      },
      "source": [
        "**definicion_de_recta_clasificadora**"
      ]
    },
    {
      "cell_type": "code",
      "execution_count": 7,
      "metadata": {
        "id": "By_mhrIBpeJv"
      },
      "outputs": [],
      "source": [
        "def f(x22):\n",
        "  return 0.3-x22  \n",
        "\n",
        " \n",
        "x22=np.arange(0,1,0.1)\n",
        "y22= f(x22)\n"
      ]
    },
    {
      "cell_type": "markdown",
      "metadata": {
        "id": "poatAxj2peJw"
      },
      "source": [
        "**Gráfica_con_valores_iniciales (pesos y bias iniciales)**"
      ]
    },
    {
      "cell_type": "code",
      "execution_count": 8,
      "metadata": {
        "colab": {
          "base_uri": "https://localhost:8080/",
          "height": 282
        },
        "id": "SjaT6O9LpeJx",
        "outputId": "847b4ea5-19f5-4fff-88a2-e0fbf1fe935e"
      },
      "outputs": [
        {
          "output_type": "execute_result",
          "data": {
            "text/plain": [
              "[<matplotlib.lines.Line2D at 0x7f5d0a4b5ca0>]"
            ]
          },
          "metadata": {},
          "execution_count": 8
        },
        {
          "output_type": "display_data",
          "data": {
            "text/plain": [
              "<Figure size 432x288 with 1 Axes>"
            ],
            "image/png": "[encoded data removed]"
          },
          "metadata": {
            "needs_background": "light"
          }
        }
      ],
      "source": [
        "fig, ax = plt.subplots()\n",
        "plt.plot(sel1,sel11,'o')\n",
        "plt.plot(sel2,sel22,'o')\n",
        "ax.plot(x22,y22)"
      ]
    },
    {
      "cell_type": "markdown",
      "metadata": {
        "id": "tg65WQ8DpeJy"
      },
      "source": [
        "# entrenamiento_perceptron\n"
      ]
    },
    {
      "cell_type": "code",
      "execution_count": 10,
      "metadata": {
        "id": "VSuDqIirpeJz"
      },
      "outputs": [],
      "source": [
        "peso1=1\n",
        "peso2=1\n",
        "bias=-0.3\n",
        "\n",
        "alpha=0.003\n",
        "betha=0.001\n",
        "gamma=0.002\n",
        "\n",
        "\n",
        "x22=np.arange(0,1,0.1)\n",
        "\n",
        "def clasificador(peso1,peso2,bias):\n",
        "  return (-bias-(peso2*x22))/peso1\n",
        "\n",
        "solucion=[]\n",
        "\n",
        "graph=[]\n",
        "\n",
        "for epocas in range(10):\n",
        "  graph.append(clasificador(peso1,peso2,bias))\n",
        "\n",
        "  for i in range(n):\n",
        "   solucion=(X1[i]*peso1)+(X2[i]*peso2)+bias\n",
        "   if solucion <0:\n",
        "    if Y1[i]==0:\n",
        "       peso1=peso1+alpha\n",
        "       peso2=peso2+gamma\n",
        "       bias=bias+betha\n",
        "   else:\n",
        "     if Y1[i]==1:\n",
        "       peso1=peso1-alpha\n",
        "       peso2=peso2-gamma\n",
        "       bias=bias-betha"
      ]
    },
    {
      "cell_type": "markdown",
      "source": [
        "**Funcion_graficadora_de_la _recta_clasificadora**\n"
      ],
      "metadata": {
        "id": "fBdP4mnWqym0"
      }
    },
    {
      "cell_type": "code",
      "execution_count": 11,
      "metadata": {
        "id": "-IRyYmSFpeJ0"
      },
      "outputs": [],
      "source": [
        "x22=np.arange(0,1,0.1)\n",
        "\n",
        "def clasificador(peso1,peso2,bias):\n",
        "  return (-bias-(peso2*x22))/peso1"
      ]
    },
    {
      "cell_type": "markdown",
      "source": [
        "**Pesos_y_bias_finales**\n"
      ],
      "metadata": {
        "id": "9_tI-Ucpq-vU"
      }
    },
    {
      "cell_type": "code",
      "execution_count": 12,
      "metadata": {
        "colab": {
          "base_uri": "https://localhost:8080/"
        },
        "id": "XVNNswCypeJ1",
        "outputId": "daaf417c-1eac-4018-b0d9-8d4dd07eb1ec"
      },
      "outputs": [
        {
          "output_type": "stream",
          "name": "stdout",
          "text": [
            "0.38799999999999946\n",
            "0.5919999999999996\n",
            "-0.5040000000000001\n"
          ]
        }
      ],
      "source": [
        "print(peso1)\n",
        "print(peso2)\n",
        "print(bias)\n",
        "\n",
        "salida=clasificador(peso1,peso2,bias)"
      ]
    },
    {
      "cell_type": "markdown",
      "metadata": {
        "id": "PHUYkxhcpeJ2"
      },
      "source": [
        "**GRAFICA_CON_VARIACION_DE_ÉPOCAS**"
      ]
    },
    {
      "cell_type": "code",
      "execution_count": 16,
      "metadata": {
        "colab": {
          "base_uri": "https://localhost:8080/",
          "height": 265
        },
        "id": "0YQHHiAbpeJ2",
        "outputId": "970a6b10-ca90-4887-884e-1f1c325c13bf"
      },
      "outputs": [
        {
          "output_type": "display_data",
          "data": {
            "text/plain": [
              "<Figure size 432x288 with 1 Axes>"
            ],
            "image/png": "[encoded data removed]"
          },
          "metadata": {
            "needs_background": "light"
          }
        }
      ],
      "source": [
        "plt.plot(sel1,sel11,'o')\n",
        "plt.plot(sel2,sel22,'o')\n",
        "\n",
        "for epocas in range(10):\n",
        "  plt.plot(x22,graph[epocas])\n"
      ]
    }
  ],
  "metadata": {
    "kernelspec": {
      "display_name": "Python 3",
      "language": "python",
      "name": "python3"
    },
    "language_info": {
      "codemirror_mode": {
        "name": "ipython",
        "version": 3
      },
      "file_extension": ".py",
      "mimetype": "text/x-python",
      "name": "python",
      "nbconvert_exporter": "python",
      "pygments_lexer": "ipython3",
      "version": "3.10.0"
    },
    "orig_nbformat": 4,
    "vscode": {
      "interpreter": {
        "hash": "92e93fd99677447a36819619535bb8b74b4f1e81af49650ffe9f238af256f6fd"
      }
    },
    "colab": {
      "provenance": [],
      "include_colab_link": true
    }
  },
  "nbformat": 4,
  "nbformat_minor": 0
}