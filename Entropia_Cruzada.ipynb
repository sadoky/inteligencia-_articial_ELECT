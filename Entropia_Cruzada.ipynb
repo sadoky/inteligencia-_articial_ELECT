{
  "cells": [
    {
      "cell_type": "markdown",
      "metadata": {
        "id": "view-in-github",
        "colab_type": "text"
      },
      "source": [
        "<a href=\"https://colab.research.google.com/github/sadoky/inteligencia-_articial_ELECT/blob/main/Entropia_Cruzada.ipynb\" target=\"_parent\"><img src=\"https://colab.research.google.com/assets/colab-badge.svg\" alt=\"Open In Colab\"/></a>"
      ]
    },
    {
      "cell_type": "markdown",
      "metadata": {
        "id": "UcHfxuIoaWRW"
      },
      "source": [
        " # ENTROPIA_CRUZADA\n",
        " "
      ]
    },
    {
      "cell_type": "code",
      "execution_count": null,
      "metadata": {
        "id": "ZpTMJtlHaWRc"
      },
      "outputs": [],
      "source": [
        "import numpy as np\n",
        "import pandas as pd\n",
        "from math import log2\n",
        "\n",
        "\n"
      ]
    },
    {
      "cell_type": "code",
      "execution_count": null,
      "metadata": {
        "id": "B7jFTvtqaWRf"
      },
      "outputs": [],
      "source": [
        "def entropia_cruzada(p,q):\n",
        "    return -sum([p[i]*log2(q[i]) for i in range(len(p))])\n"
      ]
    },
    {
      "cell_type": "code",
      "execution_count": null,
      "metadata": {
        "id": "uUbOZapBaWRf",
        "outputId": "2354a9f6-c4f3-4c11-e226-028414535eb1"
      },
      "outputs": [
        {
          "name": "stdout",
          "output_type": "stream",
          "text": [
            "H(P, Q):  5.0246796205822974 bits\n",
            "H(Q, P):  5.960218150044636 bits\n"
          ]
        }
      ],
      "source": [
        "p = [0.1, 0.4, 0.5,0.32,0.43,0.76,0.87,0.91,0.61,0.9]\n",
        "q = [0.8, 0.15, 0.5,0.4,0.7,0.9,0.5,0.8,0.65,0.43]\n",
        "\n",
        "\n",
        "ce_pq = entropia_cruzada(p, q)\n",
        "print('H(P, Q): ', ce_pq, 'bits')\n",
        "ce_qp = entropia_cruzada(q, p)\n",
        "print('H(Q, P): ', ce_qp, 'bits')"
      ]
    }
  ],
  "metadata": {
    "kernelspec": {
      "display_name": "Python 3",
      "language": "python",
      "name": "python3"
    },
    "language_info": {
      "codemirror_mode": {
        "name": "ipython",
        "version": 3
      },
      "file_extension": ".py",
      "mimetype": "text/x-python",
      "name": "python",
      "nbconvert_exporter": "python",
      "pygments_lexer": "ipython3",
      "version": "3.10.0"
    },
    "orig_nbformat": 4,
    "vscode": {
      "interpreter": {
        "hash": "92e93fd99677447a36819619535bb8b74b4f1e81af49650ffe9f238af256f6fd"
      }
    },
    "colab": {
      "provenance": [],
      "include_colab_link": true
    }
  },
  "nbformat": 4,
  "nbformat_minor": 0
}